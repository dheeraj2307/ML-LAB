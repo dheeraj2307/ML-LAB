{
 "cells": [
  {
   "cell_type": "code",
   "execution_count": 1,
   "metadata": {},
   "outputs": [],
   "source": [
    "import numpy as np\n",
    "import matplotlib.pyplot as plt\n",
    "import pandas as pd"
   ]
  },
  {
   "cell_type": "code",
   "execution_count": 2,
   "metadata": {},
   "outputs": [],
   "source": [
    "data = pd.read_csv(\"Task 2 ML Data.csv\")"
   ]
  },
  {
   "cell_type": "code",
   "execution_count": 3,
   "metadata": {},
   "outputs": [
    {
     "name": "stdout",
     "output_type": "stream",
     "text": [
      "NO2           0\n",
      "CO            0\n",
      "O3            0\n",
      "PM2.5         0\n",
      "SO2           0\n",
      " AQI Value    0\n",
      "WIND          0\n",
      "TEMP          0\n",
      "PRESSURE      0\n",
      "RH            0\n",
      "dtype: int64\n"
     ]
    }
   ],
   "source": [
    "data = data.drop(['Date'],axis=1)\n",
    "data = data.drop_duplicates()\n",
    "print(data.isnull().sum())"
   ]
  },
  {
   "cell_type": "code",
   "execution_count": 4,
   "metadata": {},
   "outputs": [
    {
     "name": "stdout",
     "output_type": "stream",
     "text": [
      "(365, 10)\n"
     ]
    }
   ],
   "source": [
    "print(data.shape)"
   ]
  },
  {
   "cell_type": "code",
   "execution_count": 5,
   "metadata": {},
   "outputs": [],
   "source": [
    "X = data[['NO2','CO','O3','PM2.5','SO2','WIND','TEMP','PRESSURE','RH ']]\n",
    "Y = data[[' AQI Value']]"
   ]
  },
  {
   "cell_type": "code",
   "execution_count": 6,
   "metadata": {},
   "outputs": [],
   "source": [
    "X = np.array(X)\n",
    "Y = np.array(Y)\n",
    "X_train = X[:300,:]\n",
    "X_test = X[300:,:]\n",
    "Y_train = Y[:300,:]\n",
    "Y_test = Y[300:,:]"
   ]
  },
  {
   "cell_type": "code",
   "execution_count": 2,
   "metadata": {},
   "outputs": [
    {
     "ename": "AttributeError",
     "evalue": "'LinearRegression' object has no attribute 'fitt'",
     "output_type": "error",
     "traceback": [
      "\u001b[1;31m---------------------------------------------------------------------------\u001b[0m",
      "\u001b[1;31mAttributeError\u001b[0m                            Traceback (most recent call last)",
      "\u001b[1;32m<ipython-input-2-08382527d6d2>\u001b[0m in \u001b[0;36m<module>\u001b[1;34m\u001b[0m\n\u001b[0;32m      2\u001b[0m \u001b[1;32mfrom\u001b[0m \u001b[0msklearn\u001b[0m\u001b[1;33m.\u001b[0m\u001b[0mlinear_model\u001b[0m \u001b[1;32mimport\u001b[0m \u001b[0mLinearRegression\u001b[0m\u001b[1;33m\u001b[0m\u001b[1;33m\u001b[0m\u001b[0m\n\u001b[0;32m      3\u001b[0m \u001b[0mLr\u001b[0m \u001b[1;33m=\u001b[0m \u001b[0mLinearRegression\u001b[0m\u001b[1;33m(\u001b[0m\u001b[1;33m)\u001b[0m\u001b[1;33m\u001b[0m\u001b[1;33m\u001b[0m\u001b[0m\n\u001b[1;32m----> 4\u001b[1;33m \u001b[0mLr\u001b[0m\u001b[1;33m.\u001b[0m\u001b[0mfitt\u001b[0m\u001b[1;33m(\u001b[0m\u001b[0mX_train\u001b[0m\u001b[1;33m,\u001b[0m\u001b[0mY_train\u001b[0m\u001b[1;33m)\u001b[0m\u001b[1;33m\u001b[0m\u001b[1;33m\u001b[0m\u001b[0m\n\u001b[0m\u001b[0;32m      5\u001b[0m \u001b[0mY_pred\u001b[0m \u001b[1;33m=\u001b[0m \u001b[0mLr\u001b[0m\u001b[1;33m.\u001b[0m\u001b[0mpredict\u001b[0m\u001b[1;33m(\u001b[0m\u001b[0mX_test\u001b[0m\u001b[1;33m)\u001b[0m\u001b[1;33m\u001b[0m\u001b[1;33m\u001b[0m\u001b[0m\n",
      "\u001b[1;31mAttributeError\u001b[0m: 'LinearRegression' object has no attribute 'fitt'"
     ]
    }
   ],
   "source": [
    "#Linear Regression\n",
    "from sklearn.linear_model import LinearRegression\n",
    "Lr = LinearRegression()\n",
    "Lr.fit(X_train,Y_train)\n",
    "Y_pred = Lr.predict(X_test)"
   ]
  },
  {
   "cell_type": "code",
   "execution_count": 8,
   "metadata": {},
   "outputs": [
    {
     "name": "stdout",
     "output_type": "stream",
     "text": [
      "[[47.5579638  44.        ]\n",
      " [80.1226952  64.        ]\n",
      " [88.82481105 90.        ]\n",
      " [64.70941157 55.        ]\n",
      " [29.18438874 34.        ]\n",
      " [37.20533041 45.        ]\n",
      " [28.40056665 33.        ]\n",
      " [40.59809209 37.        ]\n",
      " [42.13816005 42.        ]\n",
      " [71.84685847 62.        ]\n",
      " [91.66403402 74.        ]\n",
      " [75.24811125 63.        ]\n",
      " [57.4213271  49.        ]\n",
      " [34.44742884 36.        ]\n",
      " [54.43085831 44.        ]\n",
      " [50.91203177 41.        ]\n",
      " [18.27443332 25.        ]\n",
      " [20.08454787 30.        ]\n",
      " [46.03465107 61.        ]\n",
      " [45.21648374 51.        ]\n",
      " [50.89248413 44.        ]\n",
      " [33.69645587 38.        ]\n",
      " [66.49016088 58.        ]\n",
      " [68.13164399 57.        ]\n",
      " [45.22192523 38.        ]\n",
      " [37.88584075 45.        ]\n",
      " [29.38967392 40.        ]\n",
      " [30.58668576 36.        ]\n",
      " [27.52631484 33.        ]\n",
      " [34.53350283 36.        ]\n",
      " [73.07077604 61.        ]\n",
      " [55.38960649 55.        ]\n",
      " [41.87615935 44.        ]\n",
      " [35.06027358 37.        ]\n",
      " [54.26599633 58.        ]\n",
      " [57.84413122 58.        ]\n",
      " [50.65211062 50.        ]\n",
      " [43.32292092 44.        ]\n",
      " [29.90404042 42.        ]\n",
      " [33.76365273 48.        ]\n",
      " [76.37367861 77.        ]\n",
      " [58.11417995 64.        ]\n",
      " [51.69042993 54.        ]\n",
      " [46.36503851 51.        ]\n",
      " [46.99720774 42.        ]\n",
      " [29.37734353 35.        ]\n",
      " [33.02601527 97.        ]\n",
      " [44.9824472  42.        ]\n",
      " [34.79219252 36.        ]\n",
      " [47.73875366 55.        ]\n",
      " [39.46979768 60.        ]\n",
      " [47.68251666 59.        ]\n",
      " [53.39054223 54.        ]\n",
      " [62.73131367 55.        ]\n",
      " [62.43811035 60.        ]\n",
      " [57.9942033  68.        ]\n",
      " [51.20136793 65.        ]\n",
      " [47.88218597 56.        ]\n",
      " [19.95606449 39.        ]\n",
      " [43.395031   50.        ]\n",
      " [42.43309701 49.        ]\n",
      " [38.77391124 36.        ]\n",
      " [41.3377338  42.        ]\n",
      " [45.86594663 52.        ]\n",
      " [51.35446568 55.        ]]\n"
     ]
    }
   ],
   "source": [
    "print(np.concatenate((Y_pred,Y_test),axis=1))"
   ]
  },
  {
   "cell_type": "code",
   "execution_count": 9,
   "metadata": {},
   "outputs": [
    {
     "name": "stdout",
     "output_type": "stream",
     "text": [
      "Correlation Co-efficient is:  0.719631313073567\n"
     ]
    }
   ],
   "source": [
    "#Correlation Co-efficient\n",
    "Pred_mean = Y_pred.mean()\n",
    "test_mean = Y_test.mean()\n",
    "num = 0\n",
    "den_1 = 0\n",
    "den_2 = 0\n",
    "for i in range(0,65):\n",
    "    num = num+(Y_pred[i][0] - Pred_mean)*(Y_test[i][0] - test_mean)\n",
    "    den_1 = den_1+(Y_pred[i][0] - Pred_mean)**2\n",
    "    den_2 = den_2+(Y_test[i][0] - test_mean)**2\n",
    "corr = num/((den_1*den_2)**0.5)\n",
    "print(\"Correlation Co-efficient is: \",corr)"
   ]
  },
  {
   "cell_type": "code",
   "execution_count": 10,
   "metadata": {},
   "outputs": [
    {
     "name": "stdout",
     "output_type": "stream",
     "text": [
      "Mean Squared Error is:  131.35612334456553\n"
     ]
    }
   ],
   "source": [
    "#Mean Squared Error\n",
    "MSE = 0\n",
    "for i in range(0,65):\n",
    "    MSE = MSE+(Y_pred[i][0] - Y_test[i][0])**2\n",
    "MSE = MSE/65\n",
    "print(\"Mean Squared Error is: \",MSE)"
   ]
  },
  {
   "cell_type": "code",
   "execution_count": 11,
   "metadata": {},
   "outputs": [
    {
     "data": {
      "text/plain": [
       "<matplotlib.legend.Legend at 0x279c7580880>"
      ]
     },
     "execution_count": 11,
     "metadata": {},
     "output_type": "execute_result"
    },
    {
     "data": {
      "image/png": "[encoded data removed]",
      "text/plain": [
       "<Figure size 432x288 with 1 Axes>"
      ]
     },
     "metadata": {
      "needs_background": "light"
     },
     "output_type": "display_data"
    }
   ],
   "source": [
    "#Regression Plot\n",
    "plt.plot(Y_test,'.',label=\"Actual Value\")\n",
    "plt.plot(Y_pred,label=\"Predicted Value\")\n",
    "plt.legend()"
   ]
  },
  {
   "cell_type": "code",
   "execution_count": 12,
   "metadata": {},
   "outputs": [
    {
     "name": "stdout",
     "output_type": "stream",
     "text": [
      "Co-efficients B1,B2...,B9 : \n",
      "\n",
      "0.21740239562679659\n",
      "-8.409736748223652\n",
      "1144.0384292101894\n",
      "2.3979179820619407\n",
      "-0.07134946008763832\n",
      "-0.7613819233200595\n",
      "0.022132830037511653\n",
      "-0.07998044975000518\n",
      "0.03138118673924506\n",
      "\n",
      "Intercept (B0) : 56.67540308122456\n"
     ]
    }
   ],
   "source": [
    "co_eff = Lr.coef_\n",
    "print(\"Co-efficients B1,B2...,B9 : \\n\")\n",
    "for i in co_eff[0]:\n",
    "    print(i)\n",
    "print(\"\\nIntercept (B0) :\",Lr.intercept_[0])"
   ]
  },
  {
   "cell_type": "code",
   "execution_count": 13,
   "metadata": {},
   "outputs": [
    {
     "data": {
      "text/plain": [
       "<matplotlib.legend.Legend at 0x279c7683ca0>"
      ]
     },
     "execution_count": 13,
     "metadata": {},
     "output_type": "execute_result"
    },
    {
     "data": {
      "image/png": "[encoded data removed]",
      "text/plain": [
       "<Figure size 432x288 with 1 Axes>"
      ]
     },
     "metadata": {
      "needs_background": "light"
     },
     "output_type": "display_data"
    }
   ],
   "source": [
    "plt.plot(np.sort(Y_test.reshape(1,65)).reshape(65,1),'.',label=\"Actual Value\")\n",
    "plt.plot(np.sort(Y_pred.reshape(1,65)).reshape(65,1),label=\"Predicted Value\")\n",
    "plt.legend()"
   ]
  },
  {
   "cell_type": "code",
   "execution_count": null,
   "metadata": {},
   "outputs": [],
   "source": []
  }
 ],
 "metadata": {
  "kernelspec": {
   "display_name": "Python 3",
   "language": "python",
   "name": "python3"
  },
  "language_info": {
   "codemirror_mode": {
    "name": "ipython",
    "version": 3
   },
   "file_extension": ".py",
   "mimetype": "text/x-python",
   "name": "python",
   "nbconvert_exporter": "python",
   "pygments_lexer": "ipython3",
   "version": "3.8.5"
  }
 },
 "nbformat": 4,
 "nbformat_minor": 4
}
