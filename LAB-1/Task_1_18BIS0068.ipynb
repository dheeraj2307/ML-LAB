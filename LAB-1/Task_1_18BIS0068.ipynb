{
 "cells": [
  {
   "cell_type": "code",
   "execution_count": 79,
   "metadata": {},
   "outputs": [],
   "source": [
    "import numpy as np\n",
    "import matplotlib.pyplot as plt\n",
    "import pandas as pd"
   ]
  },
  {
   "cell_type": "code",
   "execution_count": 80,
   "metadata": {},
   "outputs": [],
   "source": [
    "# Reading Dataset and printing Dataset\n",
    "data = pd.read_csv('toyota.csv')"
   ]
  },
  {
   "cell_type": "code",
   "execution_count": 81,
   "metadata": {},
   "outputs": [
    {
     "data": {
      "text/html": [
       "<div>\n",
       "<style scoped>\n",
       "    .dataframe tbody tr th:only-of-type {\n",
       "        vertical-align: middle;\n",
       "    }\n",
       "\n",
       "    .dataframe tbody tr th {\n",
       "        vertical-align: top;\n",
       "    }\n",
       "\n",
       "    .dataframe thead th {\n",
       "        text-align: right;\n",
       "    }\n",
       "</style>\n",
       "<table border=\"1\" class=\"dataframe\">\n",
       "  <thead>\n",
       "    <tr style=\"text-align: right;\">\n",
       "      <th></th>\n",
       "      <th>model</th>\n",
       "      <th>year</th>\n",
       "      <th>price</th>\n",
       "      <th>transmission</th>\n",
       "      <th>mileage</th>\n",
       "      <th>fuelType</th>\n",
       "      <th>tax</th>\n",
       "      <th>mpg</th>\n",
       "      <th>engineSize</th>\n",
       "    </tr>\n",
       "  </thead>\n",
       "  <tbody>\n",
       "    <tr>\n",
       "      <th>0</th>\n",
       "      <td>GT86</td>\n",
       "      <td>2016</td>\n",
       "      <td>16000</td>\n",
       "      <td>Manual</td>\n",
       "      <td>24089.0</td>\n",
       "      <td>Petrol</td>\n",
       "      <td>265</td>\n",
       "      <td>36.2</td>\n",
       "      <td>2.0</td>\n",
       "    </tr>\n",
       "    <tr>\n",
       "      <th>1</th>\n",
       "      <td>GT86</td>\n",
       "      <td>2017</td>\n",
       "      <td>15995</td>\n",
       "      <td>Manual</td>\n",
       "      <td>18615.0</td>\n",
       "      <td>Petrol</td>\n",
       "      <td>145</td>\n",
       "      <td>36.2</td>\n",
       "      <td>2.0</td>\n",
       "    </tr>\n",
       "    <tr>\n",
       "      <th>2</th>\n",
       "      <td>GT86</td>\n",
       "      <td>2015</td>\n",
       "      <td>13998</td>\n",
       "      <td>Manual</td>\n",
       "      <td>27469.0</td>\n",
       "      <td>Petrol</td>\n",
       "      <td>265</td>\n",
       "      <td>36.2</td>\n",
       "      <td>2.0</td>\n",
       "    </tr>\n",
       "    <tr>\n",
       "      <th>3</th>\n",
       "      <td>GT86</td>\n",
       "      <td>2017</td>\n",
       "      <td>18998</td>\n",
       "      <td>Manual</td>\n",
       "      <td>14736.0</td>\n",
       "      <td>Petrol</td>\n",
       "      <td>150</td>\n",
       "      <td>36.2</td>\n",
       "      <td>2.0</td>\n",
       "    </tr>\n",
       "    <tr>\n",
       "      <th>4</th>\n",
       "      <td>GT86</td>\n",
       "      <td>2017</td>\n",
       "      <td>17498</td>\n",
       "      <td>Manual</td>\n",
       "      <td>36284.0</td>\n",
       "      <td>Petrol</td>\n",
       "      <td>145</td>\n",
       "      <td>36.2</td>\n",
       "      <td>2.0</td>\n",
       "    </tr>\n",
       "    <tr>\n",
       "      <th>...</th>\n",
       "      <td>...</td>\n",
       "      <td>...</td>\n",
       "      <td>...</td>\n",
       "      <td>...</td>\n",
       "      <td>...</td>\n",
       "      <td>...</td>\n",
       "      <td>...</td>\n",
       "      <td>...</td>\n",
       "      <td>...</td>\n",
       "    </tr>\n",
       "    <tr>\n",
       "      <th>6733</th>\n",
       "      <td>IQ</td>\n",
       "      <td>2011</td>\n",
       "      <td>5500</td>\n",
       "      <td>Automatic</td>\n",
       "      <td>30000.0</td>\n",
       "      <td>Petrol</td>\n",
       "      <td>20</td>\n",
       "      <td>58.9</td>\n",
       "      <td>1.0</td>\n",
       "    </tr>\n",
       "    <tr>\n",
       "      <th>6734</th>\n",
       "      <td>Urban Cruiser</td>\n",
       "      <td>2011</td>\n",
       "      <td>4985</td>\n",
       "      <td>Manual</td>\n",
       "      <td>36154.0</td>\n",
       "      <td>Petrol</td>\n",
       "      <td>125</td>\n",
       "      <td>50.4</td>\n",
       "      <td>1.3</td>\n",
       "    </tr>\n",
       "    <tr>\n",
       "      <th>6735</th>\n",
       "      <td>Urban Cruiser</td>\n",
       "      <td>2012</td>\n",
       "      <td>4995</td>\n",
       "      <td>Manual</td>\n",
       "      <td>46000.0</td>\n",
       "      <td>Diesel</td>\n",
       "      <td>125</td>\n",
       "      <td>57.6</td>\n",
       "      <td>1.4</td>\n",
       "    </tr>\n",
       "    <tr>\n",
       "      <th>6736</th>\n",
       "      <td>Urban Cruiser</td>\n",
       "      <td>2011</td>\n",
       "      <td>3995</td>\n",
       "      <td>Manual</td>\n",
       "      <td>60700.0</td>\n",
       "      <td>Petrol</td>\n",
       "      <td>125</td>\n",
       "      <td>50.4</td>\n",
       "      <td>1.3</td>\n",
       "    </tr>\n",
       "    <tr>\n",
       "      <th>6737</th>\n",
       "      <td>Urban Cruiser</td>\n",
       "      <td>2011</td>\n",
       "      <td>4495</td>\n",
       "      <td>Manual</td>\n",
       "      <td>45128.0</td>\n",
       "      <td>Petrol</td>\n",
       "      <td>125</td>\n",
       "      <td>50.4</td>\n",
       "      <td>1.3</td>\n",
       "    </tr>\n",
       "  </tbody>\n",
       "</table>\n",
       "<p>6697 rows × 9 columns</p>\n",
       "</div>"
      ],
      "text/plain": [
       "               model  year  price transmission  mileage fuelType  tax   mpg  \\\n",
       "0               GT86  2016  16000       Manual  24089.0   Petrol  265  36.2   \n",
       "1               GT86  2017  15995       Manual  18615.0   Petrol  145  36.2   \n",
       "2               GT86  2015  13998       Manual  27469.0   Petrol  265  36.2   \n",
       "3               GT86  2017  18998       Manual  14736.0   Petrol  150  36.2   \n",
       "4               GT86  2017  17498       Manual  36284.0   Petrol  145  36.2   \n",
       "...              ...   ...    ...          ...      ...      ...  ...   ...   \n",
       "6733              IQ  2011   5500    Automatic  30000.0   Petrol   20  58.9   \n",
       "6734   Urban Cruiser  2011   4985       Manual  36154.0   Petrol  125  50.4   \n",
       "6735   Urban Cruiser  2012   4995       Manual  46000.0   Diesel  125  57.6   \n",
       "6736   Urban Cruiser  2011   3995       Manual  60700.0   Petrol  125  50.4   \n",
       "6737   Urban Cruiser  2011   4495       Manual  45128.0   Petrol  125  50.4   \n",
       "\n",
       "      engineSize  \n",
       "0            2.0  \n",
       "1            2.0  \n",
       "2            2.0  \n",
       "3            2.0  \n",
       "4            2.0  \n",
       "...          ...  \n",
       "6733         1.0  \n",
       "6734         1.3  \n",
       "6735         1.4  \n",
       "6736         1.3  \n",
       "6737         1.3  \n",
       "\n",
       "[6697 rows x 9 columns]"
      ]
     },
     "execution_count": 81,
     "metadata": {},
     "output_type": "execute_result"
    }
   ],
   "source": [
    "#Dropping Duplicates\n",
    "data.drop_duplicates()"
   ]
  },
  {
   "cell_type": "code",
   "execution_count": 82,
   "metadata": {},
   "outputs": [
    {
     "data": {
      "text/plain": [
       "model             0\n",
       "year              0\n",
       "price             0\n",
       "transmission      0\n",
       "mileage         105\n",
       "fuelType          0\n",
       "tax               0\n",
       "mpg               0\n",
       "engineSize        0\n",
       "dtype: int64"
      ]
     },
     "execution_count": 82,
     "metadata": {},
     "output_type": "execute_result"
    }
   ],
   "source": [
    "#check for missing Values\n",
    "data.isnull().sum()"
   ]
  },
  {
   "cell_type": "code",
   "execution_count": 86,
   "metadata": {},
   "outputs": [
    {
     "name": "stdout",
     "output_type": "stream",
     "text": [
      "X Values:\n",
      " [[' GT86' 2016 'Manual' ... 265 36.2 2.0]\n",
      " [' GT86' 2017 'Manual' ... 145 36.2 2.0]\n",
      " [' GT86' 2015 'Manual' ... 265 36.2 2.0]\n",
      " ...\n",
      " [' Urban Cruiser' 2012 'Manual' ... 125 57.6 1.4]\n",
      " [' Urban Cruiser' 2011 'Manual' ... 125 50.4 1.3]\n",
      " [' Urban Cruiser' 2011 'Manual' ... 125 50.4 1.3]]\n",
      "Y Values:\n",
      " [16000 15995 13998 ...  4995  3995  4495]\n"
     ]
    }
   ],
   "source": [
    "X = np.array(data[['model','year','transmission','mileage','fuelType','tax','mpg','engineSize']].values)\n",
    "Y = np.array(data['price'].values)\n",
    "print(\"X Values:\\n\",X)\n",
    "print(\"Y Values:\\n\",Y)"
   ]
  },
  {
   "cell_type": "code",
   "execution_count": 87,
   "metadata": {},
   "outputs": [],
   "source": [
    "from sklearn.impute import SimpleImputer\n",
    "from sklearn.compose import ColumnTransformer\n",
    "from sklearn.preprocessing import OneHotEncoder"
   ]
  },
  {
   "cell_type": "code",
   "execution_count": 88,
   "metadata": {},
   "outputs": [],
   "source": [
    "im = SimpleImputer(missing_values=np.nan,strategy='mean')\n",
    "im.fit(X[:,[3]])\n",
    "X[:,[3]]=im.transform(X[:,[3]])\n",
    "X=np.array(X)"
   ]
  },
  {
   "cell_type": "code",
   "execution_count": 92,
   "metadata": {},
   "outputs": [
    {
     "name": "stdout",
     "output_type": "stream",
     "text": [
      "Missing Values are in mileage: \n",
      "Before Removing Null Values:\n",
      "    model  year  price transmission  mileage fuelType  tax   mpg  engineSize\n",
      "0   GT86  2016  16000       Manual  24089.0   Petrol  265  36.2         2.0\n",
      "1   GT86  2017  15995       Manual  18615.0   Petrol  145  36.2         2.0\n",
      "2   GT86  2015  13998       Manual  27469.0   Petrol  265  36.2         2.0\n",
      "3   GT86  2017  18998       Manual  14736.0   Petrol  150  36.2         2.0\n",
      "4   GT86  2017  17498       Manual  36284.0   Petrol  145  36.2         2.0\n",
      "5   GT86  2017  15998       Manual  26919.0   Petrol  260  36.2         2.0\n",
      "6   GT86  2017  18522       Manual  10456.0   Petrol  145  36.2         2.0\n",
      "7   GT86  2017  18995       Manual      NaN   Petrol  145  36.2         2.0\n",
      "8   GT86  2020  27998       Manual    516.0   Petrol  150  33.2         2.0\n",
      "9   GT86  2016  13990       Manual  37999.0   Petrol  265  36.2         2.0 \n",
      "After removing Null Values:\n",
      " [[' GT86' 2016 'Manual' 24089.0 'Petrol' 265 36.2 2.0]\n",
      " [' GT86' 2017 'Manual' 18615.0 'Petrol' 145 36.2 2.0]\n",
      " [' GT86' 2015 'Manual' 27469.0 'Petrol' 265 36.2 2.0]\n",
      " [' GT86' 2017 'Manual' 14736.0 'Petrol' 150 36.2 2.0]\n",
      " [' GT86' 2017 'Manual' 36284.0 'Petrol' 145 36.2 2.0]\n",
      " [' GT86' 2017 'Manual' 26919.0 'Petrol' 260 36.2 2.0]\n",
      " [' GT86' 2017 'Manual' 10456.0 'Petrol' 145 36.2 2.0]\n",
      " [' GT86' 2017 'Manual' 22860.23790140208 'Petrol' 145 36.2 2.0]\n",
      " [' GT86' 2020 'Manual' 516.0 'Petrol' 150 33.2 2.0]\n",
      " [' GT86' 2016 'Manual' 37999.0 'Petrol' 265 36.2 2.0]]\n"
     ]
    }
   ],
   "source": [
    "print(\"Missing Values are in mileage:\",\"\\nBefore Removing Null Values:\\n\",data[0:10],\"\\nAfter removing Null Values:\\n\",X[0:10])"
   ]
  },
  {
   "cell_type": "code",
   "execution_count": 93,
   "metadata": {},
   "outputs": [],
   "source": [
    "from sklearn.preprocessing import StandardScaler,LabelEncoder\n",
    "Lb = LabelEncoder()\n",
    "Lb_1=LabelEncoder()\n",
    "Lb_2 = LabelEncoder()\n",
    "X[:,0]=Lb.fit_transform(X[:,0])\n",
    "X[:,2]=Lb_1.fit_transform(X[:,2])\n",
    "X[:,4]=Lb_2.fit_transform(X[:,4])"
   ]
  },
  {
   "cell_type": "code",
   "execution_count": 94,
   "metadata": {},
   "outputs": [
    {
     "name": "stdout",
     "output_type": "stream",
     "text": [
      "Encoding Categorical Data: model , transmission , fuel \n",
      "Before Encoding:\n",
      "    model  year  price transmission  mileage fuelType  tax   mpg  engineSize\n",
      "0   GT86  2016  16000       Manual  24089.0   Petrol  265  36.2         2.0\n",
      "1   GT86  2017  15995       Manual  18615.0   Petrol  145  36.2         2.0\n",
      "2   GT86  2015  13998       Manual  27469.0   Petrol  265  36.2         2.0\n",
      "3   GT86  2017  18998       Manual  14736.0   Petrol  150  36.2         2.0\n",
      "4   GT86  2017  17498       Manual  36284.0   Petrol  145  36.2         2.0\n",
      "5   GT86  2017  15998       Manual  26919.0   Petrol  260  36.2         2.0\n",
      "6   GT86  2017  18522       Manual  10456.0   Petrol  145  36.2         2.0\n",
      "7   GT86  2017  18995       Manual      NaN   Petrol  145  36.2         2.0\n",
      "8   GT86  2020  27998       Manual    516.0   Petrol  150  33.2         2.0\n",
      "9   GT86  2016  13990       Manual  37999.0   Petrol  265  36.2         2.0 \n",
      "After Encoding:\n",
      " [[6 2016 1 24089.0 3 265 36.2 2.0]\n",
      " [6 2017 1 18615.0 3 145 36.2 2.0]\n",
      " [6 2015 1 27469.0 3 265 36.2 2.0]\n",
      " [6 2017 1 14736.0 3 150 36.2 2.0]\n",
      " [6 2017 1 36284.0 3 145 36.2 2.0]\n",
      " [6 2017 1 26919.0 3 260 36.2 2.0]\n",
      " [6 2017 1 10456.0 3 145 36.2 2.0]\n",
      " [6 2017 1 22860.23790140208 3 145 36.2 2.0]\n",
      " [6 2020 1 516.0 3 150 33.2 2.0]\n",
      " [6 2016 1 37999.0 3 265 36.2 2.0]]\n"
     ]
    }
   ],
   "source": [
    "print(\"Encoding Categorical Data: model , transmission , fuel\",\"\\nBefore Encoding:\\n\",data[0:10],\"\\nAfter Encoding:\\n\",X[0:10])"
   ]
  },
  {
   "cell_type": "code",
   "execution_count": 95,
   "metadata": {},
   "outputs": [],
   "source": [
    "st = StandardScaler()\n",
    "X=st.fit_transform(X)\n",
    "st_1=StandardScaler()\n",
    "Y=st_1.fit_transform([Y])"
   ]
  },
  {
   "cell_type": "code",
   "execution_count": 97,
   "metadata": {},
   "outputs": [
    {
     "name": "stdout",
     "output_type": "stream",
     "text": [
      "Before Normalizing:\n",
      "    model  year  price transmission  mileage fuelType  tax   mpg  engineSize\n",
      "0   GT86  2016  16000       Manual  24089.0   Petrol  265  36.2         2.0\n",
      "1   GT86  2017  15995       Manual  18615.0   Petrol  145  36.2         2.0\n",
      "2   GT86  2015  13998       Manual  27469.0   Petrol  265  36.2         2.0\n",
      "3   GT86  2017  18998       Manual  14736.0   Petrol  150  36.2         2.0\n",
      "4   GT86  2017  17498       Manual  36284.0   Petrol  145  36.2         2.0\n",
      "5   GT86  2017  15998       Manual  26919.0   Petrol  260  36.2         2.0\n",
      "6   GT86  2017  18522       Manual  10456.0   Petrol  145  36.2         2.0\n",
      "7   GT86  2017  18995       Manual      NaN   Petrol  145  36.2         2.0\n",
      "8   GT86  2020  27998       Manual    516.0   Petrol  150  33.2         2.0\n",
      "9   GT86  2016  13990       Manual  37999.0   Petrol  265  36.2         2.0 \n",
      "After Normalizing:\n",
      " [[-0.30818359 -0.3394643   0.47861718  0.06468624  0.77723245  2.30527356\n",
      "  -1.6950626   1.2122702 ]\n",
      " [-0.30818359  0.11427711  0.47861718 -0.22348384  0.77723245  0.68091453\n",
      "  -1.6950626   1.2122702 ]\n",
      " [-0.30818359 -0.7932057   0.47861718  0.242621    0.77723245  2.30527356\n",
      "  -1.6950626   1.2122702 ]\n",
      " [-0.30818359  0.11427711  0.47861718 -0.42768767  0.77723245  0.74859615\n",
      "  -1.6950626   1.2122702 ]\n",
      " [-0.30818359  0.11427711  0.47861718  0.70667274  0.77723245  0.68091453\n",
      "  -1.6950626   1.2122702 ]\n",
      " [-0.30818359  0.11427711  0.47861718  0.21366712  0.77723245  2.23759193\n",
      "  -1.6950626   1.2122702 ]\n",
      " [-0.30818359  0.11427711  0.47861718 -0.6530015   0.77723245  0.68091453\n",
      "  -1.6950626   1.2122702 ]\n",
      " [-0.30818359  0.11427711  0.47861718  0.          0.77723245  0.68091453\n",
      "  -1.6950626   1.2122702 ]\n",
      " [-0.30818359  1.47550133  0.47861718 -1.1762771   0.77723245  0.74859615\n",
      "  -1.88450994  1.2122702 ]\n",
      " [-0.30818359 -0.3394643   0.47861718  0.79695621  0.77723245  2.30527356\n",
      "  -1.6950626   1.2122702 ]]\n"
     ]
    }
   ],
   "source": [
    "print(\"Before Normalizing:\\n\",data[0:10],\"\\nAfter Normalizing:\\n\",X[:10,:])"
   ]
  },
  {
   "cell_type": "code",
   "execution_count": null,
   "metadata": {},
   "outputs": [],
   "source": []
  }
 ],
 "metadata": {
  "kernelspec": {
   "display_name": "Python 3",
   "language": "python",
   "name": "python3"
  },
  "language_info": {
   "codemirror_mode": {
    "name": "ipython",
    "version": 3
   },
   "file_extension": ".py",
   "mimetype": "text/x-python",
   "name": "python",
   "nbconvert_exporter": "python",
   "pygments_lexer": "ipython3",
   "version": "3.8.5"
  }
 },
 "nbformat": 4,
 "nbformat_minor": 4
}
