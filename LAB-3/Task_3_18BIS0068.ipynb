{
 "cells": [
  {
   "cell_type": "code",
   "execution_count": 1,
   "metadata": {},
   "outputs": [],
   "source": [
    "import numpy as np\n",
    "import matplotlib.pyplot as plt\n",
    "import pandas as pd\n",
    "import seaborn"
   ]
  },
  {
   "cell_type": "code",
   "execution_count": 2,
   "metadata": {},
   "outputs": [
    {
     "data": {
      "text/html": [
       "<div>\n",
       "<style scoped>\n",
       "    .dataframe tbody tr th:only-of-type {\n",
       "        vertical-align: middle;\n",
       "    }\n",
       "\n",
       "    .dataframe tbody tr th {\n",
       "        vertical-align: top;\n",
       "    }\n",
       "\n",
       "    .dataframe thead th {\n",
       "        text-align: right;\n",
       "    }\n",
       "</style>\n",
       "<table border=\"1\" class=\"dataframe\">\n",
       "  <thead>\n",
       "    <tr style=\"text-align: right;\">\n",
       "      <th></th>\n",
       "      <th>Gender</th>\n",
       "      <th>Age</th>\n",
       "      <th>Salary</th>\n",
       "      <th>Purchase Iphone</th>\n",
       "    </tr>\n",
       "  </thead>\n",
       "  <tbody>\n",
       "    <tr>\n",
       "      <th>0</th>\n",
       "      <td>Male</td>\n",
       "      <td>19</td>\n",
       "      <td>19000</td>\n",
       "      <td>0</td>\n",
       "    </tr>\n",
       "    <tr>\n",
       "      <th>1</th>\n",
       "      <td>Male</td>\n",
       "      <td>35</td>\n",
       "      <td>20000</td>\n",
       "      <td>0</td>\n",
       "    </tr>\n",
       "    <tr>\n",
       "      <th>2</th>\n",
       "      <td>Female</td>\n",
       "      <td>26</td>\n",
       "      <td>43000</td>\n",
       "      <td>0</td>\n",
       "    </tr>\n",
       "    <tr>\n",
       "      <th>3</th>\n",
       "      <td>Female</td>\n",
       "      <td>27</td>\n",
       "      <td>57000</td>\n",
       "      <td>0</td>\n",
       "    </tr>\n",
       "    <tr>\n",
       "      <th>4</th>\n",
       "      <td>Male</td>\n",
       "      <td>19</td>\n",
       "      <td>76000</td>\n",
       "      <td>0</td>\n",
       "    </tr>\n",
       "  </tbody>\n",
       "</table>\n",
       "</div>"
      ],
      "text/plain": [
       "   Gender  Age  Salary  Purchase Iphone\n",
       "0    Male   19   19000                0\n",
       "1    Male   35   20000                0\n",
       "2  Female   26   43000                0\n",
       "3  Female   27   57000                0\n",
       "4    Male   19   76000                0"
      ]
     },
     "execution_count": 2,
     "metadata": {},
     "output_type": "execute_result"
    }
   ],
   "source": [
    "data = pd.read_csv('iphone_purchase_records.csv')\n",
    "data.head()"
   ]
  },
  {
   "cell_type": "code",
   "execution_count": 3,
   "metadata": {},
   "outputs": [
    {
     "data": {
      "text/html": [
       "<div>\n",
       "<style scoped>\n",
       "    .dataframe tbody tr th:only-of-type {\n",
       "        vertical-align: middle;\n",
       "    }\n",
       "\n",
       "    .dataframe tbody tr th {\n",
       "        vertical-align: top;\n",
       "    }\n",
       "\n",
       "    .dataframe thead th {\n",
       "        text-align: right;\n",
       "    }\n",
       "</style>\n",
       "<table border=\"1\" class=\"dataframe\">\n",
       "  <thead>\n",
       "    <tr style=\"text-align: right;\">\n",
       "      <th></th>\n",
       "      <th>Gender</th>\n",
       "      <th>Age</th>\n",
       "      <th>Salary</th>\n",
       "      <th>Purchase Iphone</th>\n",
       "    </tr>\n",
       "  </thead>\n",
       "  <tbody>\n",
       "    <tr>\n",
       "      <th>0</th>\n",
       "      <td>1</td>\n",
       "      <td>19</td>\n",
       "      <td>19000</td>\n",
       "      <td>0</td>\n",
       "    </tr>\n",
       "    <tr>\n",
       "      <th>1</th>\n",
       "      <td>1</td>\n",
       "      <td>35</td>\n",
       "      <td>20000</td>\n",
       "      <td>0</td>\n",
       "    </tr>\n",
       "    <tr>\n",
       "      <th>2</th>\n",
       "      <td>0</td>\n",
       "      <td>26</td>\n",
       "      <td>43000</td>\n",
       "      <td>0</td>\n",
       "    </tr>\n",
       "    <tr>\n",
       "      <th>3</th>\n",
       "      <td>0</td>\n",
       "      <td>27</td>\n",
       "      <td>57000</td>\n",
       "      <td>0</td>\n",
       "    </tr>\n",
       "    <tr>\n",
       "      <th>4</th>\n",
       "      <td>1</td>\n",
       "      <td>19</td>\n",
       "      <td>76000</td>\n",
       "      <td>0</td>\n",
       "    </tr>\n",
       "  </tbody>\n",
       "</table>\n",
       "</div>"
      ],
      "text/plain": [
       "   Gender  Age  Salary  Purchase Iphone\n",
       "0       1   19   19000                0\n",
       "1       1   35   20000                0\n",
       "2       0   26   43000                0\n",
       "3       0   27   57000                0\n",
       "4       1   19   76000                0"
      ]
     },
     "execution_count": 3,
     "metadata": {},
     "output_type": "execute_result"
    }
   ],
   "source": [
    "from sklearn.preprocessing import LabelEncoder\n",
    "Lb_gender = LabelEncoder()\n",
    "data.iloc[:,0] = Lb_gender.fit_transform(data.iloc[:,0])\n",
    "data.head()"
   ]
  },
  {
   "cell_type": "code",
   "execution_count": 4,
   "metadata": {},
   "outputs": [
    {
     "data": {
      "text/plain": [
       "array(['Female', 'Male'], dtype=object)"
      ]
     },
     "execution_count": 4,
     "metadata": {},
     "output_type": "execute_result"
    }
   ],
   "source": [
    "Lb_gender.classes_"
   ]
  },
  {
   "cell_type": "code",
   "execution_count": 15,
   "metadata": {},
   "outputs": [
    {
     "name": "stdout",
     "output_type": "stream",
     "text": [
      "Since the correlation is not high no need to exclude any columns\n"
     ]
    },
    {
     "data": {
      "text/html": [
       "<div>\n",
       "<style scoped>\n",
       "    .dataframe tbody tr th:only-of-type {\n",
       "        vertical-align: middle;\n",
       "    }\n",
       "\n",
       "    .dataframe tbody tr th {\n",
       "        vertical-align: top;\n",
       "    }\n",
       "\n",
       "    .dataframe thead th {\n",
       "        text-align: right;\n",
       "    }\n",
       "</style>\n",
       "<table border=\"1\" class=\"dataframe\">\n",
       "  <thead>\n",
       "    <tr style=\"text-align: right;\">\n",
       "      <th></th>\n",
       "      <th>Gender</th>\n",
       "      <th>Age</th>\n",
       "      <th>Salary</th>\n",
       "    </tr>\n",
       "  </thead>\n",
       "  <tbody>\n",
       "    <tr>\n",
       "      <th>Gender</th>\n",
       "      <td>1.000000</td>\n",
       "      <td>-0.073741</td>\n",
       "      <td>-0.060435</td>\n",
       "    </tr>\n",
       "    <tr>\n",
       "      <th>Age</th>\n",
       "      <td>-0.073741</td>\n",
       "      <td>1.000000</td>\n",
       "      <td>0.155238</td>\n",
       "    </tr>\n",
       "    <tr>\n",
       "      <th>Salary</th>\n",
       "      <td>-0.060435</td>\n",
       "      <td>0.155238</td>\n",
       "      <td>1.000000</td>\n",
       "    </tr>\n",
       "  </tbody>\n",
       "</table>\n",
       "</div>"
      ],
      "text/plain": [
       "          Gender       Age    Salary\n",
       "Gender  1.000000 -0.073741 -0.060435\n",
       "Age    -0.073741  1.000000  0.155238\n",
       "Salary -0.060435  0.155238  1.000000"
      ]
     },
     "execution_count": 15,
     "metadata": {},
     "output_type": "execute_result"
    }
   ],
   "source": [
    "corr = data.iloc[:,:-1].corr()\n",
    "print('Since the correlation is not high no need to exclude any columns')\n",
    "corr"
   ]
  },
  {
   "cell_type": "code",
   "execution_count": 6,
   "metadata": {},
   "outputs": [],
   "source": [
    "from sklearn.model_selection import KFold\n",
    "kf_cv = KFold(n_splits = 5,random_state=5,shuffle=True)\n",
    "X = data.iloc[:,:-1].values\n",
    "Y = data.iloc[:,-1].values\n",
    "from sklearn.metrics import confusion_matrix\n",
    "from sklearn.metrics import f1_score\n"
   ]
  },
  {
   "cell_type": "code",
   "execution_count": 19,
   "metadata": {},
   "outputs": [
    {
     "name": "stdout",
     "output_type": "stream",
     "text": [
      "Logistic Regression\n",
      "There are 80 values out of 80 between range of 0.4 and 0.6\n",
      "\n",
      "Accuracy for logistic regression is:  66.25\n",
      "F1 score for logistic regression is:  0.0\n",
      "Confusion Matrix: \n"
     ]
    },
    {
     "data": {
      "image/png": "[encoded data removed]",
      "text/plain": [
       "<Figure size 432x288 with 2 Axes>"
      ]
     },
     "metadata": {
      "needs_background": "light"
     },
     "output_type": "display_data"
    }
   ],
   "source": [
    "print(\"Logistic Regression\")\n",
    "from sklearn.linear_model import LogisticRegression\n",
    "logistic = LogisticRegression()\n",
    "maxx = []\n",
    "for train,test in kf_cv.split(data):\n",
    "    xtr ,xte, ytr ,yte = X[train],X[test],Y[train],Y[test]\n",
    "    logistic.fit(xtr,ytr)\n",
    "    logistic_pred = logistic.predict(xte)\n",
    "    logistic_matrix = confusion_matrix(yte,logistic_pred)\n",
    "    maxx.append(100*(logistic_matrix[0][0]+logistic_matrix[1][1])/np.sum(logistic_matrix))\n",
    "#print(maxx.index(max(maxx)))\n",
    "#print(maxx)\n",
    "i=0\n",
    "for train,test in kf_cv.split(data):\n",
    "    xtr ,xte, ytr ,yte = X[train],X[test],Y[train],Y[test]\n",
    "    logistic.fit(xtr,ytr)\n",
    "    if(i==maxx.index(max(maxx))):\n",
    "        break\n",
    "    i=i+1\n",
    "\n",
    "logistic_pred = logistic.predict(xte)\n",
    "logistic_prob = logistic.predict_proba(xte)\n",
    "#print(logistic.predict_proba(xte))\n",
    "k = logistic_prob[:,0]\n",
    "a = np.where(np.logical_and(0.4<k,k<0.6))\n",
    "print(\"There are %d values out of %d between range of 0.4 and 0.6\\n\"%(np.shape(a)[1],np.shape(yte)[0]))\n",
    "\n",
    "logistic_pred\n",
    "logistic_matrix = confusion_matrix(yte,logistic_pred)\n",
    "\n",
    "seaborn.heatmap(logistic_matrix,annot = True,cmap='viridis')\n",
    "\n",
    "f1_logistic = f1_score(yte,logistic_pred)\n",
    "print(\"Accuracy for logistic regression is: \",100*(logistic_matrix[0][0]+logistic_matrix[1][1])/np.sum(logistic_matrix))\n",
    "print(\"F1 score for logistic regression is: \",f1_logistic)\n",
    "print(\"Confusion Matrix: \")\n",
    "\n"
   ]
  },
  {
   "cell_type": "code",
   "execution_count": 20,
   "metadata": {},
   "outputs": [
    {
     "name": "stdout",
     "output_type": "stream",
     "text": [
      "For Decision Tree\n",
      "There are 0 values out of 80 between range of 0.4 and 0.6\n",
      "\n",
      "Accuracy for Decision tree Classifier is:  87.5\n",
      "F1 Score For Decision tree Classifier is : 0.8214285714285715\n",
      "Confusion Matrix: \n"
     ]
    },
    {
     "data": {
      "image/png": "[encoded data removed]",
      "text/plain": [
       "<Figure size 432x288 with 2 Axes>"
      ]
     },
     "metadata": {
      "needs_background": "light"
     },
     "output_type": "display_data"
    }
   ],
   "source": [
    "print(\"For Decision Tree\")\n",
    "from sklearn.tree import DecisionTreeClassifier\n",
    "decision = DecisionTreeClassifier()\n",
    "maxx = []\n",
    "for train,test in kf_cv.split(data):\n",
    "    xtr ,xte, ytr ,yte = X[train],X[test],Y[train],Y[test]\n",
    "    decision.fit(xtr,ytr)\n",
    "    decision_pred = decision.predict(xte)\n",
    "    decision_matrix = confusion_matrix(yte,decision_pred)\n",
    "    maxx.append(100*(decision_matrix[0][0]+decision_matrix[1][1])/np.sum(decision_matrix))\n",
    "#print(maxx.index(max(maxx)))\n",
    "#print(maxx)\n",
    "i=0\n",
    "for train,test in kf_cv.split(data):\n",
    "    xtr ,xte, ytr ,yte = X[train],X[test],Y[train],Y[test]\n",
    "    decision.fit(xtr,ytr)\n",
    "    if(i==maxx.index(max(maxx))):\n",
    "        break\n",
    "    i=i+1\n",
    "decision_pred = decision.predict(xte)\n",
    "decision_matrix = confusion_matrix(yte,decision_pred)\n",
    "\n",
    "decision_prob = decision.predict_proba(xte)\n",
    "#print(decision.predict_proba(xte))\n",
    "k = decision_prob[:,0]\n",
    "a = np.where(np.logical_and(0.4<k,k<0.6))\n",
    "print(\"There are %d values out of %d between range of 0.4 and 0.6\\n\"%(np.shape(a)[1],np.shape(yte)[0]))\n",
    "\n",
    "seaborn.heatmap(decision_matrix,annot = True,cmap='viridis')\n",
    "\n",
    "f1_decision = f1_score(yte,decision_pred)\n",
    "print(\"Accuracy for Decision tree Classifier is: \",100*(decision_matrix[0][0]+decision_matrix[1][1])/np.sum(decision_matrix))\n",
    "print('F1 Score For Decision tree Classifier is :',f1_decision)\n",
    "print(\"Confusion Matrix: \")"
   ]
  },
  {
   "cell_type": "code",
   "execution_count": 17,
   "metadata": {},
   "outputs": [
    {
     "name": "stdout",
     "output_type": "stream",
     "text": [
      "For Random Forest\n",
      "There are 2 values out of 80 between range of 0.4 and 0.6\n",
      "\n",
      "Accuracy for Random Forest Classifier is:  92.5\n",
      "F1 Score For Random Forest Classifier is : 0.9\n",
      "Confusion Matrix: \n"
     ]
    },
    {
     "data": {
      "image/png": "[encoded data removed]",
      "text/plain": [
       "<Figure size 432x288 with 2 Axes>"
      ]
     },
     "metadata": {
      "needs_background": "light"
     },
     "output_type": "display_data"
    }
   ],
   "source": [
    "print(\"For Random Forest\")\n",
    "from sklearn.ensemble import RandomForestClassifier\n",
    "random = RandomForestClassifier()\n",
    "maxx = []\n",
    "for train,test in kf_cv.split(data):\n",
    "    xtr ,xte, ytr ,yte = X[train],X[test],Y[train],Y[test]\n",
    "    random.fit(xtr,ytr)\n",
    "    random_pred = random.predict(xte)\n",
    "    random_matrix = confusion_matrix(yte,random_pred)\n",
    "    maxx.append(100*(random_matrix[0][0]+random_matrix[1][1])/np.sum(random_matrix))\n",
    "#print(maxx.index(max(maxx)))\n",
    "#print(maxx)\n",
    "i=0\n",
    "for train,test in kf_cv.split(data):\n",
    "    xtr ,xte, ytr ,yte = X[train],X[test],Y[train],Y[test]\n",
    "    random.fit(xtr,ytr)\n",
    "    if(i==maxx.index(max(maxx))):\n",
    "        break\n",
    "    i=i+1\n",
    "random_pred = random.predict(xte)\n",
    "\n",
    "random_prob = random.predict_proba(xte)\n",
    "#print(random.predict_proba(xte))\n",
    "k = random_prob[:,0]\n",
    "a = np.where(np.logical_and(0.4<k,k<0.6))\n",
    "print(\"There are %d values out of %d between range of 0.4 and 0.6\\n\"%(np.shape(a)[1],np.shape(yte)[0]))\n",
    "\n",
    "random_matrix = confusion_matrix(yte,random_pred)\n",
    "seaborn.heatmap(random_matrix,annot = True,cmap='viridis')\n",
    "\n",
    "\n",
    "f1_random = f1_score(yte,random_pred)\n",
    "f1_random\n",
    "print(\"Accuracy for Random Forest Classifier is: \",100*(random_matrix[0][0]+random_matrix[1][1])/np.sum(random_matrix))\n",
    "print('F1 Score For Random Forest Classifier is :',f1_random)\n",
    "print(\"Confusion Matrix: \")"
   ]
  },
  {
   "cell_type": "code",
   "execution_count": 10,
   "metadata": {},
   "outputs": [
    {
     "name": "stdout",
     "output_type": "stream",
     "text": [
      "For Naive Bayes\n",
      "There are 7 values out of 80 between range of 0.4 and 0.6\n",
      "\n",
      "Accuracy for Naive bayes Classifier is:  90.0\n",
      "F1 Score For Naive bayes Classififer is : 0.8461538461538461\n",
      "Confusion Matrix: \n"
     ]
    },
    {
     "data": {
      "image/png": "[encoded data removed]",
      "text/plain": [
       "<Figure size 432x288 with 2 Axes>"
      ]
     },
     "metadata": {
      "needs_background": "light"
     },
     "output_type": "display_data"
    }
   ],
   "source": [
    "print(\"For Naive Bayes\")\n",
    "from sklearn.naive_bayes import GaussianNB\n",
    "naive = GaussianNB()\n",
    "maxx = []\n",
    "for train,test in kf_cv.split(data):\n",
    "    xtr ,xte, ytr ,yte = X[train],X[test],Y[train],Y[test]\n",
    "    naive.fit(xtr,ytr)\n",
    "    naive_pred = naive.predict(xte)\n",
    "    naive_matrix = confusion_matrix(yte,naive_pred)\n",
    "    maxx.append(100*(naive_matrix[0][0]+naive_matrix[1][1])/np.sum(naive_matrix))\n",
    "#print(maxx.index(max(maxx)))\n",
    "#print(maxx)\n",
    "i=0\n",
    "for train,test in kf_cv.split(data):\n",
    "    xtr ,xte, ytr ,yte = X[train],X[test],Y[train],Y[test]\n",
    "    naive.fit(xtr,ytr)\n",
    "    if(i==maxx.index(max(maxx))):\n",
    "        break\n",
    "    i=i+1\n",
    "\n",
    "naive_pred = naive.predict(xte)\n",
    "\n",
    "naive_prob = np.array(np.round(naive.predict_proba(xte),2))\n",
    "#print(naive_prob)\n",
    "k=naive_prob[:,0]\n",
    "a=np.where(np.logical_and(0.4<k,k<0.6))\n",
    "print(\"There are %d values out of %d between range of 0.4 and 0.6\\n\"%(np.shape(a)[1],np.shape(yte)[0]))\n",
    "naive_matrix = confusion_matrix(yte,naive_pred)\n",
    "seaborn.heatmap(naive_matrix,annot = True,cmap='viridis')\n",
    "\n",
    "f1_naive = f1_score(yte,naive_pred)\n",
    "print(\"Accuracy for Naive bayes Classifier is: \",100*(naive_matrix[0][0]+naive_matrix[1][1])/np.sum(naive_matrix))\n",
    "print('F1 Score For Naive bayes Classififer is :',f1_naive)\n",
    "print(\"Confusion Matrix: \")"
   ]
  },
  {
   "cell_type": "code",
   "execution_count": null,
   "metadata": {},
   "outputs": [],
   "source": []
  }
 ],
 "metadata": {
  "kernelspec": {
   "display_name": "Python 3",
   "language": "python",
   "name": "python3"
  },
  "language_info": {
   "codemirror_mode": {
    "name": "ipython",
    "version": 3
   },
   "file_extension": ".py",
   "mimetype": "text/x-python",
   "name": "python",
   "nbconvert_exporter": "python",
   "pygments_lexer": "ipython3",
   "version": "3.8.5"
  }
 },
 "nbformat": 4,
 "nbformat_minor": 4
}
