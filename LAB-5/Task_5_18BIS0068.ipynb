{
 "cells": [
  {
   "cell_type": "code",
   "execution_count": 1,
   "metadata": {},
   "outputs": [],
   "source": [
    "import numpy as np\n",
    "import matplotlib.pyplot as plt\n",
    "import pandas as pd"
   ]
  },
  {
   "cell_type": "code",
   "execution_count": 2,
   "metadata": {},
   "outputs": [
    {
     "data": {
      "text/html": [
       "<div>\n",
       "<style scoped>\n",
       "    .dataframe tbody tr th:only-of-type {\n",
       "        vertical-align: middle;\n",
       "    }\n",
       "\n",
       "    .dataframe tbody tr th {\n",
       "        vertical-align: top;\n",
       "    }\n",
       "\n",
       "    .dataframe thead th {\n",
       "        text-align: right;\n",
       "    }\n",
       "</style>\n",
       "<table border=\"1\" class=\"dataframe\">\n",
       "  <thead>\n",
       "    <tr style=\"text-align: right;\">\n",
       "      <th></th>\n",
       "      <th>model</th>\n",
       "      <th>year</th>\n",
       "      <th>price</th>\n",
       "      <th>transmission</th>\n",
       "      <th>mileage</th>\n",
       "      <th>fuelType</th>\n",
       "      <th>tax</th>\n",
       "      <th>mpg</th>\n",
       "      <th>engineSize</th>\n",
       "    </tr>\n",
       "  </thead>\n",
       "  <tbody>\n",
       "    <tr>\n",
       "      <th>0</th>\n",
       "      <td>GT86</td>\n",
       "      <td>2016</td>\n",
       "      <td>16000</td>\n",
       "      <td>Manual</td>\n",
       "      <td>24089.0</td>\n",
       "      <td>Petrol</td>\n",
       "      <td>265</td>\n",
       "      <td>36.2</td>\n",
       "      <td>2.0</td>\n",
       "    </tr>\n",
       "    <tr>\n",
       "      <th>1</th>\n",
       "      <td>GT86</td>\n",
       "      <td>2017</td>\n",
       "      <td>15995</td>\n",
       "      <td>Manual</td>\n",
       "      <td>18615.0</td>\n",
       "      <td>Petrol</td>\n",
       "      <td>145</td>\n",
       "      <td>36.2</td>\n",
       "      <td>2.0</td>\n",
       "    </tr>\n",
       "    <tr>\n",
       "      <th>2</th>\n",
       "      <td>GT86</td>\n",
       "      <td>2015</td>\n",
       "      <td>13998</td>\n",
       "      <td>Manual</td>\n",
       "      <td>27469.0</td>\n",
       "      <td>Petrol</td>\n",
       "      <td>265</td>\n",
       "      <td>36.2</td>\n",
       "      <td>2.0</td>\n",
       "    </tr>\n",
       "    <tr>\n",
       "      <th>3</th>\n",
       "      <td>GT86</td>\n",
       "      <td>2017</td>\n",
       "      <td>18998</td>\n",
       "      <td>Manual</td>\n",
       "      <td>14736.0</td>\n",
       "      <td>Petrol</td>\n",
       "      <td>150</td>\n",
       "      <td>36.2</td>\n",
       "      <td>2.0</td>\n",
       "    </tr>\n",
       "    <tr>\n",
       "      <th>4</th>\n",
       "      <td>GT86</td>\n",
       "      <td>2017</td>\n",
       "      <td>17498</td>\n",
       "      <td>Manual</td>\n",
       "      <td>36284.0</td>\n",
       "      <td>Petrol</td>\n",
       "      <td>145</td>\n",
       "      <td>36.2</td>\n",
       "      <td>2.0</td>\n",
       "    </tr>\n",
       "  </tbody>\n",
       "</table>\n",
       "</div>"
      ],
      "text/plain": [
       "   model  year  price transmission  mileage fuelType  tax   mpg  engineSize\n",
       "0   GT86  2016  16000       Manual  24089.0   Petrol  265  36.2         2.0\n",
       "1   GT86  2017  15995       Manual  18615.0   Petrol  145  36.2         2.0\n",
       "2   GT86  2015  13998       Manual  27469.0   Petrol  265  36.2         2.0\n",
       "3   GT86  2017  18998       Manual  14736.0   Petrol  150  36.2         2.0\n",
       "4   GT86  2017  17498       Manual  36284.0   Petrol  145  36.2         2.0"
      ]
     },
     "execution_count": 2,
     "metadata": {},
     "output_type": "execute_result"
    }
   ],
   "source": [
    "data = pd.read_csv('toyota.csv')\n",
    "data.head()"
   ]
  },
  {
   "cell_type": "code",
   "execution_count": 3,
   "metadata": {},
   "outputs": [],
   "source": [
    "data = data.drop_duplicates()"
   ]
  },
  {
   "cell_type": "code",
   "execution_count": 4,
   "metadata": {},
   "outputs": [
    {
     "name": "stdout",
     "output_type": "stream",
     "text": [
      "For X: \n",
      " model           0\n",
      "year            0\n",
      "price           0\n",
      "transmission    0\n",
      "fuelType        0\n",
      "tax             0\n",
      "mpg             0\n",
      "engineSize      0\n",
      "dtype: int64\n",
      "For Y:  103\n"
     ]
    }
   ],
   "source": [
    "X=data.iloc[:,[0,1,2,3,5,6,7,8]]\n",
    "Y=data.iloc[:,4]\n",
    "print(\"For X: \\n\",X.isnull().sum())\n",
    "print(\"For Y: \",Y.isnull().sum())"
   ]
  },
  {
   "cell_type": "code",
   "execution_count": 5,
   "metadata": {},
   "outputs": [
    {
     "name": "stdout",
     "output_type": "stream",
     "text": [
      "Mean is :  22892.94176524113\n",
      "For Y:  0\n"
     ]
    },
    {
     "data": {
      "text/html": [
       "<div>\n",
       "<style scoped>\n",
       "    .dataframe tbody tr th:only-of-type {\n",
       "        vertical-align: middle;\n",
       "    }\n",
       "\n",
       "    .dataframe tbody tr th {\n",
       "        vertical-align: top;\n",
       "    }\n",
       "\n",
       "    .dataframe thead th {\n",
       "        text-align: right;\n",
       "    }\n",
       "</style>\n",
       "<table border=\"1\" class=\"dataframe\">\n",
       "  <thead>\n",
       "    <tr style=\"text-align: right;\">\n",
       "      <th></th>\n",
       "      <th>model</th>\n",
       "      <th>year</th>\n",
       "      <th>price</th>\n",
       "      <th>transmission</th>\n",
       "      <th>fuelType</th>\n",
       "      <th>tax</th>\n",
       "      <th>mpg</th>\n",
       "      <th>engineSize</th>\n",
       "    </tr>\n",
       "  </thead>\n",
       "  <tbody>\n",
       "    <tr>\n",
       "      <th>0</th>\n",
       "      <td>GT86</td>\n",
       "      <td>2016</td>\n",
       "      <td>16000</td>\n",
       "      <td>Manual</td>\n",
       "      <td>Petrol</td>\n",
       "      <td>265</td>\n",
       "      <td>36.2</td>\n",
       "      <td>2.0</td>\n",
       "    </tr>\n",
       "    <tr>\n",
       "      <th>1</th>\n",
       "      <td>GT86</td>\n",
       "      <td>2017</td>\n",
       "      <td>15995</td>\n",
       "      <td>Manual</td>\n",
       "      <td>Petrol</td>\n",
       "      <td>145</td>\n",
       "      <td>36.2</td>\n",
       "      <td>2.0</td>\n",
       "    </tr>\n",
       "    <tr>\n",
       "      <th>2</th>\n",
       "      <td>GT86</td>\n",
       "      <td>2015</td>\n",
       "      <td>13998</td>\n",
       "      <td>Manual</td>\n",
       "      <td>Petrol</td>\n",
       "      <td>265</td>\n",
       "      <td>36.2</td>\n",
       "      <td>2.0</td>\n",
       "    </tr>\n",
       "    <tr>\n",
       "      <th>3</th>\n",
       "      <td>GT86</td>\n",
       "      <td>2017</td>\n",
       "      <td>18998</td>\n",
       "      <td>Manual</td>\n",
       "      <td>Petrol</td>\n",
       "      <td>150</td>\n",
       "      <td>36.2</td>\n",
       "      <td>2.0</td>\n",
       "    </tr>\n",
       "    <tr>\n",
       "      <th>4</th>\n",
       "      <td>GT86</td>\n",
       "      <td>2017</td>\n",
       "      <td>17498</td>\n",
       "      <td>Manual</td>\n",
       "      <td>Petrol</td>\n",
       "      <td>145</td>\n",
       "      <td>36.2</td>\n",
       "      <td>2.0</td>\n",
       "    </tr>\n",
       "  </tbody>\n",
       "</table>\n",
       "</div>"
      ],
      "text/plain": [
       "   model  year  price transmission fuelType  tax   mpg  engineSize\n",
       "0   GT86  2016  16000       Manual   Petrol  265  36.2         2.0\n",
       "1   GT86  2017  15995       Manual   Petrol  145  36.2         2.0\n",
       "2   GT86  2015  13998       Manual   Petrol  265  36.2         2.0\n",
       "3   GT86  2017  18998       Manual   Petrol  150  36.2         2.0\n",
       "4   GT86  2017  17498       Manual   Petrol  145  36.2         2.0"
      ]
     },
     "execution_count": 5,
     "metadata": {},
     "output_type": "execute_result"
    }
   ],
   "source": [
    "Y_mean=data['mileage'].mean()\n",
    "print(\"Mean is : \",Y_mean)\n",
    "Y=Y.fillna(Y_mean)\n",
    "print(\"For Y: \",Y.isnull().sum())\n",
    "X.head()"
   ]
  },
  {
   "cell_type": "code",
   "execution_count": 6,
   "metadata": {},
   "outputs": [
    {
     "name": "stderr",
     "output_type": "stream",
     "text": [
      "C:\\Users\\dheer\\dhpython\\anaconda3\\lib\\site-packages\\pandas\\core\\indexing.py:1745: SettingWithCopyWarning: \n",
      "A value is trying to be set on a copy of a slice from a DataFrame.\n",
      "Try using .loc[row_indexer,col_indexer] = value instead\n",
      "\n",
      "See the caveats in the documentation: https://pandas.pydata.org/pandas-docs/stable/user_guide/indexing.html#returning-a-view-versus-a-copy\n",
      "  isetter(ilocs[0], value)\n"
     ]
    },
    {
     "data": {
      "text/html": [
       "<div>\n",
       "<style scoped>\n",
       "    .dataframe tbody tr th:only-of-type {\n",
       "        vertical-align: middle;\n",
       "    }\n",
       "\n",
       "    .dataframe tbody tr th {\n",
       "        vertical-align: top;\n",
       "    }\n",
       "\n",
       "    .dataframe thead th {\n",
       "        text-align: right;\n",
       "    }\n",
       "</style>\n",
       "<table border=\"1\" class=\"dataframe\">\n",
       "  <thead>\n",
       "    <tr style=\"text-align: right;\">\n",
       "      <th></th>\n",
       "      <th>model</th>\n",
       "      <th>year</th>\n",
       "      <th>price</th>\n",
       "      <th>transmission</th>\n",
       "      <th>fuelType</th>\n",
       "      <th>tax</th>\n",
       "      <th>mpg</th>\n",
       "      <th>engineSize</th>\n",
       "    </tr>\n",
       "  </thead>\n",
       "  <tbody>\n",
       "    <tr>\n",
       "      <th>0</th>\n",
       "      <td>6</td>\n",
       "      <td>2016</td>\n",
       "      <td>16000</td>\n",
       "      <td>1</td>\n",
       "      <td>3</td>\n",
       "      <td>265</td>\n",
       "      <td>36.2</td>\n",
       "      <td>2.0</td>\n",
       "    </tr>\n",
       "    <tr>\n",
       "      <th>1</th>\n",
       "      <td>6</td>\n",
       "      <td>2017</td>\n",
       "      <td>15995</td>\n",
       "      <td>1</td>\n",
       "      <td>3</td>\n",
       "      <td>145</td>\n",
       "      <td>36.2</td>\n",
       "      <td>2.0</td>\n",
       "    </tr>\n",
       "    <tr>\n",
       "      <th>2</th>\n",
       "      <td>6</td>\n",
       "      <td>2015</td>\n",
       "      <td>13998</td>\n",
       "      <td>1</td>\n",
       "      <td>3</td>\n",
       "      <td>265</td>\n",
       "      <td>36.2</td>\n",
       "      <td>2.0</td>\n",
       "    </tr>\n",
       "    <tr>\n",
       "      <th>3</th>\n",
       "      <td>6</td>\n",
       "      <td>2017</td>\n",
       "      <td>18998</td>\n",
       "      <td>1</td>\n",
       "      <td>3</td>\n",
       "      <td>150</td>\n",
       "      <td>36.2</td>\n",
       "      <td>2.0</td>\n",
       "    </tr>\n",
       "    <tr>\n",
       "      <th>4</th>\n",
       "      <td>6</td>\n",
       "      <td>2017</td>\n",
       "      <td>17498</td>\n",
       "      <td>1</td>\n",
       "      <td>3</td>\n",
       "      <td>145</td>\n",
       "      <td>36.2</td>\n",
       "      <td>2.0</td>\n",
       "    </tr>\n",
       "  </tbody>\n",
       "</table>\n",
       "</div>"
      ],
      "text/plain": [
       "   model  year  price  transmission  fuelType  tax   mpg  engineSize\n",
       "0      6  2016  16000             1         3  265  36.2         2.0\n",
       "1      6  2017  15995             1         3  145  36.2         2.0\n",
       "2      6  2015  13998             1         3  265  36.2         2.0\n",
       "3      6  2017  18998             1         3  150  36.2         2.0\n",
       "4      6  2017  17498             1         3  145  36.2         2.0"
      ]
     },
     "execution_count": 6,
     "metadata": {},
     "output_type": "execute_result"
    }
   ],
   "source": [
    "from sklearn.preprocessing import LabelEncoder\n",
    "Lb_model = LabelEncoder()\n",
    "X.iloc[:,0] = Lb_model.fit_transform(X.iloc[:,0])\n",
    "Lb_trans = LabelEncoder()\n",
    "X.iloc[:,3] = Lb_trans.fit_transform(X.iloc[:,3])\n",
    "Lb_ = LabelEncoder()\n",
    "X.iloc[:,4] = Lb_trans.fit_transform(X.iloc[:,4])\n",
    "X.head()"
   ]
  },
  {
   "cell_type": "code",
   "execution_count": 7,
   "metadata": {
    "scrolled": true
   },
   "outputs": [
    {
     "data": {
      "text/html": [
       "<div>\n",
       "<style scoped>\n",
       "    .dataframe tbody tr th:only-of-type {\n",
       "        vertical-align: middle;\n",
       "    }\n",
       "\n",
       "    .dataframe tbody tr th {\n",
       "        vertical-align: top;\n",
       "    }\n",
       "\n",
       "    .dataframe thead th {\n",
       "        text-align: right;\n",
       "    }\n",
       "</style>\n",
       "<table border=\"1\" class=\"dataframe\">\n",
       "  <thead>\n",
       "    <tr style=\"text-align: right;\">\n",
       "      <th></th>\n",
       "      <th>model</th>\n",
       "      <th>year</th>\n",
       "      <th>price</th>\n",
       "      <th>transmission</th>\n",
       "      <th>fuelType</th>\n",
       "      <th>tax</th>\n",
       "      <th>mpg</th>\n",
       "      <th>engineSize</th>\n",
       "    </tr>\n",
       "  </thead>\n",
       "  <tbody>\n",
       "    <tr>\n",
       "      <th>model</th>\n",
       "      <td>1.000000</td>\n",
       "      <td>-0.034387</td>\n",
       "      <td>0.028002</td>\n",
       "      <td>-0.067418</td>\n",
       "      <td>-0.002232</td>\n",
       "      <td>0.032084</td>\n",
       "      <td>-0.134041</td>\n",
       "      <td>0.217742</td>\n",
       "    </tr>\n",
       "    <tr>\n",
       "      <th>year</th>\n",
       "      <td>-0.034387</td>\n",
       "      <td>1.000000</td>\n",
       "      <td>0.422832</td>\n",
       "      <td>0.023453</td>\n",
       "      <td>0.094989</td>\n",
       "      <td>0.282674</td>\n",
       "      <td>-0.019395</td>\n",
       "      <td>-0.041637</td>\n",
       "    </tr>\n",
       "    <tr>\n",
       "      <th>price</th>\n",
       "      <td>0.028002</td>\n",
       "      <td>0.422832</td>\n",
       "      <td>1.000000</td>\n",
       "      <td>-0.338037</td>\n",
       "      <td>-0.516962</td>\n",
       "      <td>0.215386</td>\n",
       "      <td>-0.039730</td>\n",
       "      <td>0.728783</td>\n",
       "    </tr>\n",
       "    <tr>\n",
       "      <th>transmission</th>\n",
       "      <td>-0.067418</td>\n",
       "      <td>0.023453</td>\n",
       "      <td>-0.338037</td>\n",
       "      <td>1.000000</td>\n",
       "      <td>0.508737</td>\n",
       "      <td>0.175913</td>\n",
       "      <td>-0.321016</td>\n",
       "      <td>-0.403082</td>\n",
       "    </tr>\n",
       "    <tr>\n",
       "      <th>fuelType</th>\n",
       "      <td>-0.002232</td>\n",
       "      <td>0.094989</td>\n",
       "      <td>-0.516962</td>\n",
       "      <td>0.508737</td>\n",
       "      <td>1.000000</td>\n",
       "      <td>0.107514</td>\n",
       "      <td>-0.295948</td>\n",
       "      <td>-0.710097</td>\n",
       "    </tr>\n",
       "    <tr>\n",
       "      <th>tax</th>\n",
       "      <td>0.032084</td>\n",
       "      <td>0.282674</td>\n",
       "      <td>0.215386</td>\n",
       "      <td>0.175913</td>\n",
       "      <td>0.107514</td>\n",
       "      <td>1.000000</td>\n",
       "      <td>-0.429367</td>\n",
       "      <td>0.157539</td>\n",
       "    </tr>\n",
       "    <tr>\n",
       "      <th>mpg</th>\n",
       "      <td>-0.134041</td>\n",
       "      <td>-0.019395</td>\n",
       "      <td>-0.039730</td>\n",
       "      <td>-0.321016</td>\n",
       "      <td>-0.295948</td>\n",
       "      <td>-0.429367</td>\n",
       "      <td>1.000000</td>\n",
       "      <td>-0.107100</td>\n",
       "    </tr>\n",
       "    <tr>\n",
       "      <th>engineSize</th>\n",
       "      <td>0.217742</td>\n",
       "      <td>-0.041637</td>\n",
       "      <td>0.728783</td>\n",
       "      <td>-0.403082</td>\n",
       "      <td>-0.710097</td>\n",
       "      <td>0.157539</td>\n",
       "      <td>-0.107100</td>\n",
       "      <td>1.000000</td>\n",
       "    </tr>\n",
       "  </tbody>\n",
       "</table>\n",
       "</div>"
      ],
      "text/plain": [
       "                 model      year     price  transmission  fuelType       tax  \\\n",
       "model         1.000000 -0.034387  0.028002     -0.067418 -0.002232  0.032084   \n",
       "year         -0.034387  1.000000  0.422832      0.023453  0.094989  0.282674   \n",
       "price         0.028002  0.422832  1.000000     -0.338037 -0.516962  0.215386   \n",
       "transmission -0.067418  0.023453 -0.338037      1.000000  0.508737  0.175913   \n",
       "fuelType     -0.002232  0.094989 -0.516962      0.508737  1.000000  0.107514   \n",
       "tax           0.032084  0.282674  0.215386      0.175913  0.107514  1.000000   \n",
       "mpg          -0.134041 -0.019395 -0.039730     -0.321016 -0.295948 -0.429367   \n",
       "engineSize    0.217742 -0.041637  0.728783     -0.403082 -0.710097  0.157539   \n",
       "\n",
       "                   mpg  engineSize  \n",
       "model        -0.134041    0.217742  \n",
       "year         -0.019395   -0.041637  \n",
       "price        -0.039730    0.728783  \n",
       "transmission -0.321016   -0.403082  \n",
       "fuelType     -0.295948   -0.710097  \n",
       "tax          -0.429367    0.157539  \n",
       "mpg           1.000000   -0.107100  \n",
       "engineSize   -0.107100    1.000000  "
      ]
     },
     "execution_count": 7,
     "metadata": {},
     "output_type": "execute_result"
    }
   ],
   "source": [
    "corre = X.corr()\n",
    "corre"
   ]
  },
  {
   "cell_type": "code",
   "execution_count": 8,
   "metadata": {},
   "outputs": [
    {
     "name": "stdout",
     "output_type": "stream",
     "text": [
      "[2]\n"
     ]
    },
    {
     "data": {
      "text/plain": [
       "(6697, 7)"
      ]
     },
     "execution_count": 8,
     "metadata": {},
     "output_type": "execute_result"
    }
   ],
   "source": [
    "ind = np.where(corre>0.7)\n",
    "ind = np.array(ind)\n",
    "del_ind=[]\n",
    "for i in range(0,10):\n",
    "    if ind[0,i]>ind[1,i]:\n",
    "        del_ind.append(ind[1,i])\n",
    "del_ind = np.unique(np.array(del_ind))\n",
    "print(del_ind)\n",
    "X = np.array(X)\n",
    "X = np.delete(X,del_ind,axis=1)\n",
    "# X = X.astype(int)\n",
    "X.shape"
   ]
  },
  {
   "cell_type": "code",
   "execution_count": 9,
   "metadata": {},
   "outputs": [
    {
     "data": {
      "text/plain": [
       "array([[0, 1, 2, 2, 3, 4, 5, 6, 7, 7],\n",
       "       [0, 1, 2, 7, 3, 4, 5, 6, 2, 7]], dtype=int64)"
      ]
     },
     "execution_count": 9,
     "metadata": {},
     "output_type": "execute_result"
    }
   ],
   "source": [
    "ind"
   ]
  },
  {
   "cell_type": "code",
   "execution_count": 10,
   "metadata": {},
   "outputs": [],
   "source": [
    "Y=np.array(Y)\n",
    "from sklearn.metrics import mean_squared_error as mse\n",
    "from sklearn.model_selection import train_test_split\n",
    "X_train,X_test,Y_train,Y_test = train_test_split(X,Y)\n"
   ]
  },
  {
   "cell_type": "code",
   "execution_count": 11,
   "metadata": {},
   "outputs": [],
   "source": [
    "#Linear Regression\n",
    "from sklearn.linear_model import LinearRegression\n",
    "Lr = LinearRegression()\n",
    "Lr.fit(X_train,Y_train)\n",
    "Y_pred = Lr.predict(X_test)"
   ]
  },
  {
   "cell_type": "code",
   "execution_count": 12,
   "metadata": {},
   "outputs": [
    {
     "name": "stdout",
     "output_type": "stream",
     "text": [
      "Mean Squared Error is:  162462925.3628971\n",
      "Correlation coefficient is:  0.7382577164124811\n",
      "[[61387.58930127 99600.        ]\n",
      " [22320.28760554 26264.        ]\n",
      " [28285.43414557 36000.        ]\n",
      " [28321.23087389 57423.        ]\n",
      " [ 7106.18605468 22892.94176524]]\n"
     ]
    }
   ],
   "source": [
    "corr_coef = np.corrcoef(Y_test,Y_pred)\n",
    "mse_l = mse(Y_test,Y_pred)\n",
    "print(\"Mean Squared Error is: \",mse_l)\n",
    "print(\"Correlation coefficient is: \",corr_coef[0][1])\n",
    "print(np.concatenate((Y_pred[:5].reshape(len(Y_pred[:5]),1),Y_test[:5].reshape(len(Y_test[:5]),1)),axis=1))"
   ]
  },
  {
   "cell_type": "code",
   "execution_count": 13,
   "metadata": {},
   "outputs": [
    {
     "data": {
      "text/plain": [
       "<matplotlib.legend.Legend at 0x19fe1432940>"
      ]
     },
     "execution_count": 13,
     "metadata": {},
     "output_type": "execute_result"
    },
    {
     "data": {
      "image/png": "[encoded data removed]",
      "text/plain": [
       "<Figure size 432x288 with 1 Axes>"
      ]
     },
     "metadata": {
      "needs_background": "light"
     },
     "output_type": "display_data"
    }
   ],
   "source": [
    "plt.plot(Y_test[:100],'.',label=\"Actual Value\")\n",
    "plt.plot(Y_pred[:100],label=\"Predicted Value\")\n",
    "plt.legend()"
   ]
  },
  {
   "cell_type": "code",
   "execution_count": 14,
   "metadata": {},
   "outputs": [],
   "source": [
    "#Random Forest Regresion\n",
    "from sklearn.ensemble import RandomForestRegressor\n",
    "rand = RandomForestRegressor(n_estimators = 5,random_state = 0)\n",
    "rand.fit(X_test,Y_test)\n",
    "Y_pred=rand.predict(X_test)"
   ]
  },
  {
   "cell_type": "code",
   "execution_count": 15,
   "metadata": {},
   "outputs": [
    {
     "name": "stdout",
     "output_type": "stream",
     "text": [
      "Mean Squared Error is:  107693287.48301084\n",
      "Correlation coefficient is:  0.8357694123410127\n",
      "[[99600.         99600.        ]\n",
      " [24117.77533147 26264.        ]\n",
      " [40538.08242424 36000.        ]\n",
      " [46870.13333333 57423.        ]\n",
      " [10051.67472358 22892.94176524]]\n"
     ]
    }
   ],
   "source": [
    "corr_coef = np.corrcoef(Y_test,Y_pred)\n",
    "mse_r = mse(Y_test,Y_pred)\n",
    "print(\"Mean Squared Error is: \",mse_r)\n",
    "print(\"Correlation coefficient is: \",corr_coef[0][1])\n",
    "print(np.concatenate((Y_pred[:5].reshape(len(Y_pred[:5]),1),Y_test[:5].reshape(len(Y_test[:5]),1)),axis=1))"
   ]
  },
  {
   "cell_type": "code",
   "execution_count": 16,
   "metadata": {},
   "outputs": [
    {
     "data": {
      "text/plain": [
       "<matplotlib.legend.Legend at 0x19fe1716b50>"
      ]
     },
     "execution_count": 16,
     "metadata": {},
     "output_type": "execute_result"
    },
    {
     "data": {
      "image/png": "[encoded data removed]",
      "text/plain": [
       "<Figure size 432x288 with 1 Axes>"
      ]
     },
     "metadata": {
      "needs_background": "light"
     },
     "output_type": "display_data"
    }
   ],
   "source": [
    "plt.plot(Y_test[:100],'.',label=\"Actual Value\")\n",
    "plt.plot(Y_pred[:100],label=\"Predicted Value\")\n",
    "plt.legend()"
   ]
  },
  {
   "cell_type": "code",
   "execution_count": null,
   "metadata": {},
   "outputs": [],
   "source": []
  }
 ],
 "metadata": {
  "kernelspec": {
   "display_name": "Python 3",
   "language": "python",
   "name": "python3"
  },
  "language_info": {
   "codemirror_mode": {
    "name": "ipython",
    "version": 3
   },
   "file_extension": ".py",
   "mimetype": "text/x-python",
   "name": "python",
   "nbconvert_exporter": "python",
   "pygments_lexer": "ipython3",
   "version": "3.8.5"
  }
 },
 "nbformat": 4,
 "nbformat_minor": 4
}
